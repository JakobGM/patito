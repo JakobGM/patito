{
 "cells": [
  {
   "cell_type": "code",
   "execution_count": 1,
   "metadata": {},
   "outputs": [],
   "source": [
    "from typing import Any\n",
    "import polars as pl\n",
    "import json\n",
    "\n",
    "from pydantic import BaseModel\n",
    "\n",
    "original_expression = (pl.col(\"foo\") * 2) == pl.col(\"bar\")\n",
    "\n",
    "\n",
    "class Column(BaseModel, arbitrary_types_allowed=True):\n",
    "    \"This model won't be serializable\"\n",
    "    name: str\n",
    "    expression: pl.Expr\n",
    "\n",
    "\n",
    "col = Column(name=\"foo\", expression=original_expression)\n",
    "# foo.model_dump_json() # <- this will throw a serialization error\n",
    "\n",
    "\n",
    "# just to demonstrate, you can use json.loads to deserialize the polars json, into a dict\n",
    "expr_json = original_expression.meta.write_json()  # polars json version of the expr\n",
    "expr_dict = json.loads(\n",
    "    expr_json\n",
    ")  # python deserialized version of the expr. This is a dict of strings.\n",
    "\n",
    "\n",
    "class TempColumn(BaseModel):\n",
    "    \"This model WILL be serializable\"\n",
    "    name: str\n",
    "    expression: dict[str, Any]\n",
    "\n",
    "\n",
    "temp_col = TempColumn(\n",
    "    name=col.name,\n",
    "    expression=json.loads(\n",
    "        col.expression.meta.write_json()\n",
    "    ),  # notice I used the entries from the instance of Column\n",
    ")\n",
    "\n",
    "\n",
    "temp_col_json = temp_col.model_dump_json()\n",
    "\n",
    "# read it back in\n",
    "temp_col = TempColumn.model_validate_json(temp_col_json)\n",
    "\n",
    "expression_read_from_pydantic = pl.Expr.from_json(json.dumps(temp_col.expression))\n",
    "\n",
    "# expressions can't be equated, since == would compare two columns, but we can check that their string repr is the same\n",
    "assert str(expression_read_from_pydantic) == str(original_expression)"
   ]
  },
  {
   "cell_type": "code",
   "execution_count": 30,
   "metadata": {},
   "outputs": [],
   "source": [
    "class Model(BaseModel, arbitrary_types_allowed=True):\n",
    "    pass\n",
    "\n",
    "\n",
    "\n",
    "from typing import Literal\n",
    "\n",
    "class Product(Model):\n",
    "    product_id: pl.Int64\n",
    "    expr: pl.Expr\n",
    "    name: str\n",
    "    temperature_zone: Literal[\"dry\", \"cold\", \"frozen\"]\n",
    "    demand_percentage: float | None\n",
    "\n",
    "\n"
   ]
  },
  {
   "cell_type": "code",
   "execution_count": 31,
   "metadata": {},
   "outputs": [
    {
     "data": {
      "text/plain": [
       "{'type': 'model',\n",
       " 'cls': __main__.Product,\n",
       " 'schema': {'type': 'model-fields',\n",
       "  'fields': {'product_id': {'type': 'model-field',\n",
       "    'schema': {'type': 'is-instance',\n",
       "     'cls': Int64,\n",
       "     'metadata': {'pydantic.internal.needs_apply_discriminated_union': False}},\n",
       "    'metadata': {'pydantic_js_functions': [],\n",
       "     'pydantic_js_annotation_functions': [<function pydantic._internal._generate_schema.get_json_schema_update_func.<locals>.json_schema_update_func(core_schema_or_field: 'CoreSchemaOrField', handler: 'GetJsonSchemaHandler') -> 'JsonSchemaValue'>]}},\n",
       "   'expr': {'type': 'model-field',\n",
       "    'schema': {'type': 'is-instance',\n",
       "     'cls': polars.expr.expr.Expr,\n",
       "     'metadata': {'pydantic.internal.needs_apply_discriminated_union': False}},\n",
       "    'metadata': {'pydantic_js_functions': [],\n",
       "     'pydantic_js_annotation_functions': [<function pydantic._internal._generate_schema.get_json_schema_update_func.<locals>.json_schema_update_func(core_schema_or_field: 'CoreSchemaOrField', handler: 'GetJsonSchemaHandler') -> 'JsonSchemaValue'>]}},\n",
       "   'name': {'type': 'model-field',\n",
       "    'schema': {'type': 'str',\n",
       "     'metadata': {'pydantic.internal.needs_apply_discriminated_union': False}},\n",
       "    'metadata': {'pydantic_js_functions': [],\n",
       "     'pydantic_js_annotation_functions': [<function pydantic._internal._generate_schema.get_json_schema_update_func.<locals>.json_schema_update_func(core_schema_or_field: 'CoreSchemaOrField', handler: 'GetJsonSchemaHandler') -> 'JsonSchemaValue'>]}},\n",
       "   'temperature_zone': {'type': 'model-field',\n",
       "    'schema': {'type': 'literal',\n",
       "     'expected': ['dry', 'cold', 'frozen'],\n",
       "     'metadata': {'pydantic.internal.needs_apply_discriminated_union': False}},\n",
       "    'metadata': {'pydantic_js_functions': [],\n",
       "     'pydantic_js_annotation_functions': [<function pydantic._internal._generate_schema.get_json_schema_update_func.<locals>.json_schema_update_func(core_schema_or_field: 'CoreSchemaOrField', handler: 'GetJsonSchemaHandler') -> 'JsonSchemaValue'>]}},\n",
       "   'demand_percentage': {'type': 'model-field',\n",
       "    'schema': {'type': 'nullable',\n",
       "     'schema': {'type': 'float',\n",
       "      'metadata': {'pydantic.internal.needs_apply_discriminated_union': False}},\n",
       "     'metadata': {'pydantic.internal.needs_apply_discriminated_union': False}},\n",
       "    'metadata': {'pydantic_js_functions': [],\n",
       "     'pydantic_js_annotation_functions': [<function pydantic._internal._generate_schema.get_json_schema_update_func.<locals>.json_schema_update_func(core_schema_or_field: 'CoreSchemaOrField', handler: 'GetJsonSchemaHandler') -> 'JsonSchemaValue'>]}}},\n",
       "  'model_name': 'Product',\n",
       "  'computed_fields': []},\n",
       " 'custom_init': False,\n",
       " 'root_model': False,\n",
       " 'config': {'title': 'Product'},\n",
       " 'ref': '__main__.Product:4416381728',\n",
       " 'metadata': {'pydantic_js_functions': [functools.partial(<function modify_model_json_schema at 0x1077b6200>, cls=<class '__main__.Product'>),\n",
       "   <bound method BaseModel.__get_pydantic_json_schema__ of <class '__main__.Product'>>],\n",
       "  'pydantic_js_annotation_functions': [],\n",
       "  'pydantic.internal.needs_apply_discriminated_union': False}}"
      ]
     },
     "execution_count": 31,
     "metadata": {},
     "output_type": "execute_result"
    }
   ],
   "source": [
    "Product.__pydantic_core_schema__"
   ]
  }
 ],
 "metadata": {
  "kernelspec": {
   "display_name": ".venv",
   "language": "python",
   "name": "python3"
  },
  "language_info": {
   "codemirror_mode": {
    "name": "ipython",
    "version": 3
   },
   "file_extension": ".py",
   "mimetype": "text/x-python",
   "name": "python",
   "nbconvert_exporter": "python",
   "pygments_lexer": "ipython3",
   "version": "3.11.4"
  }
 },
 "nbformat": 4,
 "nbformat_minor": 2
}
