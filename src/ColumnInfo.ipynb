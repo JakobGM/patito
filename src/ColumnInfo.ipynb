{
 "cells": [
  {
   "cell_type": "markdown",
   "metadata": {},
   "source": [
    "### Some example *pydantic* models that could have been patito models that describe a dataframe"
   ]
  },
  {
   "cell_type": "code",
   "execution_count": 264,
   "metadata": {},
   "outputs": [],
   "source": [
    "from pydantic import BaseModel, Field\n",
    "from enum import Enum\n",
    "import polars as pl\n",
    "from datetime import date, datetime\n",
    "from typing import Literal, Optional, get_args, get_origin\n",
    "from pydantic.fields import FieldInfo\n",
    "from polars.datatypes import (\n",
    "    DataTypeClass as PolarsDataType,\n",
    ")  # no idea if this should be DataTypeClass or DatType, but only the former works\n",
    "from pprint import pprint\n",
    "from types import NoneType, UnionType\n",
    "\n",
    "\n",
    "class Foo(Enum):\n",
    "    A = 1\n",
    "    B = 2\n",
    "\n",
    "\n",
    "class SimpleExample(BaseModel):\n",
    "    id: str                                                                    # pl.Utf8, required, not nullable, not unique, str, no constraints\n",
    "    name: str                                                                  # pl.Utf8, required, not nullable, not unique, str, no constraints\n",
    "    int_with_dtype_value: int = Field(json_schema_extra={\"dtype\": pl.Int16()}) # pl.Int16, required, not nullable, not unique, int, no constraints\n",
    "    not_required_bc_has_default: bool = True                                   # pl.Boolean, not required, nullable, not unique, bool, no constraints\n",
    "\n",
    "\n",
    "class NearlyCompleteExample(BaseModel):\n",
    "    int_with_dtype_value: int = Field(json_schema_extra={\"dtype\": pl.Int64()})\n",
    "    int_value: int\n",
    "    float_value: float\n",
    "    str_value: str\n",
    "    bool_value: bool\n",
    "    list_value: list[int]\n",
    "    list_value_nullable: list[int | None]\n",
    "    literal_value: Literal[\"a\", \"b\"]\n",
    "    default_value: str = \"my_default\"\n",
    "    optional_value: Optional[int]\n",
    "    bounded_value: int = Field(ge=10, le=20)\n",
    "    date_value: date\n",
    "    datetime_value: datetime\n",
    "    enum_value: Foo"
   ]
  },
  {
   "cell_type": "markdown",
   "metadata": {},
   "source": [
    "### A dataclass-like structure that should describe the schema of a column, including any constraints or similar"
   ]
  },
  {
   "cell_type": "code",
   "execution_count": 100,
   "metadata": {},
   "outputs": [],
   "source": [
    "class ColumnInfo(BaseModel, arbitrary_types_allowed=True):\n",
    "    \"\"\"A model containing info patito needs about a column.\"\"\"\n",
    "\n",
    "    name: str\n",
    "    dtype: PolarsDataType\n",
    "    required: bool\n",
    "    nullable: bool\n",
    "    unique: bool\n",
    "    type_annotation: type\n",
    "    contraints: list[pl.Expr] | None = None"
   ]
  },
  {
   "cell_type": "markdown",
   "metadata": {},
   "source": [
    "### Mapping between type hints and the biggest polars data type"
   ]
  },
  {
   "cell_type": "code",
   "execution_count": 101,
   "metadata": {},
   "outputs": [],
   "source": [
    "PYTHON_TO_POLARS_TYPES: dict[type, PolarsDataType] = {\n",
    "    str: pl.Utf8,\n",
    "    int: pl.Int64,\n",
    "    float: pl.Float64,\n",
    "    bool: pl.Boolean,\n",
    "    list: pl.List,\n",
    "}"
   ]
  },
  {
   "cell_type": "markdown",
   "metadata": {},
   "source": [
    "### Utility functions that let us reason about type hints"
   ]
  },
  {
   "cell_type": "code",
   "execution_count": 258,
   "metadata": {},
   "outputs": [],
   "source": [
    "from re import U\n",
    "from typing import cast\n",
    "\n",
    "\n",
    "def is_single_type(type: type) -> bool:\n",
    "    \"\"\"Type hint is a single type.\n",
    "\n",
    "    True for: int, str, float, bool, etc.\n",
    "    False for: Optional[int], Union[int, str], Literal[\"a\", \"b\"], etc.\n",
    "    \"\"\"\n",
    "    return get_args(type) == ()\n",
    "\n",
    "\n",
    "def is_literal(type_: type) -> bool:\n",
    "    \"Determine whether the type hint is a Literal type.\"\n",
    "    try:\n",
    "        return type_.__dict__[\"__origin__\"] is Literal\n",
    "    except KeyError:\n",
    "        return False\n",
    "\n",
    "\n",
    "def get_enum_inner_type(enum: type) -> type | None:\n",
    "    \"Get the type of the values of the enum if it exists, None otherwise.\"\n",
    "    if issubclass(enum, Enum):\n",
    "        enum_types = set(type(value) for value in enum)  # type: ignore\n",
    "        if len(enum_types) > 1:\n",
    "            raise TypeError(\n",
    "                \"All enumerated values of enums used to annotate \"\n",
    "                \"Patito model fields must have the same type. \"\n",
    "                \"Encountered types: \"\n",
    "                f\"{sorted(map(lambda t: t.__name__, enum_types))}.\"\n",
    "            )\n",
    "        enum_type = enum_types.pop()\n",
    "    else:\n",
    "        enum_type = None\n",
    "    return enum_type\n",
    "\n",
    "\n",
    "def get_polars_dtype(field_info: FieldInfo) -> PolarsDataType | None:\n",
    "    \"\"\"Get polars dtype if is specified in the json schema extra\"\"\"\n",
    "    if schema_extra := field_info.json_schema_extra:\n",
    "        dtype = cast(PolarsDataType, schema_extra.get(\"dtype\"))\n",
    "    else:\n",
    "        dtype = None\n",
    "    return dtype\n",
    "\n",
    "\n",
    "def get_dtype(field_info: FieldInfo, python_type_hint: type) -> PolarsDataType:\n",
    "    \"\"\"Get polars dtype from field info if it is specified as an Extra, or from the type hint.\"\"\"\n",
    "    return get_polars_dtype(field_info) or get_polars_type_from_annotation(python_type_hint)\n",
    "\n",
    "\n",
    "def get_is_unique(field_info: FieldInfo) -> bool:\n",
    "    \"Get whether the field is unique if it is specified in the json schema extra.\"\n",
    "    if schema_extra := field_info.json_schema_extra:\n",
    "        is_unique = bool(schema_extra.get(\"unique\", False))\n",
    "    else:\n",
    "        is_unique = False\n",
    "    return is_unique\n",
    "\n",
    "\n",
    "def unnest_type_hint(python_type_hint: type) -> list[type]:\n",
    "    \"\"\"Disassemble a generic type into its components.\n",
    "\n",
    "    Example:\n",
    "        list[list[int]] -> [list, list, int]\n",
    "    \"\"\"\n",
    "    origin = get_origin(python_type_hint)\n",
    "    if origin is None:\n",
    "        return [python_type_hint]\n",
    "    else:\n",
    "        args = get_args(python_type_hint)\n",
    "        foo = list(unnest_type_hint(args[0]))\n",
    "        return [origin] + foo\n",
    "\n",
    "# def unnest_type_hint(python_type_hint: type) -> list[type | tuple[type, ...]]:\n",
    "#     \"\"\"Disassemble a generic type into its components.\n",
    "\n",
    "#     Example:\n",
    "#         list[list[int]] -> [list, list, int]\n",
    "#     \"\"\"\n",
    "#     origin = get_origin(python_type_hint)\n",
    "\n",
    "#     if origin is None:\n",
    "#         return [python_type_hint]\n",
    "\n",
    "#     else:\n",
    "#         inner_args = get_args(python_type_hint)\n",
    "#         if get_origin(python_type_hint) is UnionType:\n",
    "#             print(len(inner_args))\n",
    "#             foo = tuple(unnest_type_hint(arg) for arg in inner_args)\n",
    "#         else:\n",
    "#             foo = unnest_type_hint(inner_args[0])\n",
    "#         return [origin] + [foo]\n",
    "\n",
    "def get_type_hint_as_list(python_type_hint: type):\n",
    "    types_with_uniontype = unnest_type_hint(python_type_hint)\n",
    "    types = [type_ for type_ in types_with_uniontype if type_ is not UnionType]\n",
    "    return types\n",
    "\n",
    "def get_polars_type_from_annotation(python_type_hint: type) -> PolarsDataType:\n",
    "    \"\"\"Get the full nested polars type from a type hint.\"\"\"\n",
    "    python_types = unnest_type_hint(python_type_hint)\n",
    "    polars_types = [PYTHON_TO_POLARS_TYPES[type_] for type_ in python_types]\n",
    "\n",
    "    polars_types_reversed = list(reversed(polars_types))\n",
    "    \n",
    "    # first type is e.g. `pl.Int64` without the (), so we \n",
    "    # add () to call it\n",
    "    full_type = polars_types_reversed[0]()\n",
    "    for type_ in polars_types_reversed[1:]:\n",
    "        full_type = type_(full_type)  # e.g. pl.List(pl.Int64())\n",
    "    return full_type"
   ]
  },
  {
   "cell_type": "code",
   "execution_count": 217,
   "metadata": {},
   "outputs": [],
   "source": [
    "# Test unnesting of type hints\n",
    "test_cases = [\n",
    "    (list[list[int]], (list, list, int)),\n",
    "    (list[float], (list, float)),\n",
    "    (float, (float,)),\n",
    "    (int | None, ((int, None),)),\n",
    "    (list[int | None] | None, ((list, (int, None)), None)),\n",
    "]\n",
    "\n",
    "# Run the test cases\n",
    "for python_type_hint, expected in test_cases:\n",
    "    result = unnest_type_hint(python_type_hint)\n",
    "    assert result == expected, python_type_hint\n",
    "\n",
    "\n",
    "test_cases = [\n",
    "    (list[list[int]], (list, list, int)),\n",
    "    (list[float], (list, float)),\n",
    "    (float, (float,)),\n",
    "    (int | None, ((int, None),)),\n",
    "    (list[int | None] | None, ((list, (int, None)), None)),\n",
    "]"
   ]
  },
  {
   "cell_type": "code",
   "execution_count": 214,
   "metadata": {},
   "outputs": [
    {
     "name": "stdout",
     "output_type": "stream",
     "text": [
      "got origin union\n",
      "here None\n",
      "here None\n",
      "here None\n"
     ]
    }
   ],
   "source": []
  },
  {
   "cell_type": "markdown",
   "metadata": {},
   "source": [
    "### Convert a pydantic schema into a patito schema"
   ]
  },
  {
   "cell_type": "code",
   "execution_count": 261,
   "metadata": {},
   "outputs": [
    {
     "name": "stdout",
     "output_type": "stream",
     "text": [
      "id annotation=str required=True \t\t ()\n",
      "name annotation=str required=True \t\t ()\n",
      "int_with_dtype_value annotation=int required=True json_schema_extra={'dtype': Int64} \t\t ()\n",
      "not_required_bc_has_default annotation=bool required=False default=True \t\t ()\n"
     ]
    }
   ],
   "source": [
    "model = SimpleExample  # or NearlyCompleteExample\n",
    "\n",
    "model_fields = SimpleExample.model_fields\n",
    "\n",
    "# print the field name, field info and the result of typing.get_args on the type annotation\n",
    "for field_name, field_info in model_fields.items():\n",
    "    print(field_name, field_info, \"\\t\\t\", get_args(field_info.annotation))"
   ]
  },
  {
   "cell_type": "code",
   "execution_count": 262,
   "metadata": {},
   "outputs": [
    {
     "name": "stdout",
     "output_type": "stream",
     "text": [
      "{'id': ColumnInfo(name='id', dtype=Utf8, required=True, nullable=False, unique=False, type_annotation=<class 'str'>, contraints=None),\n",
      " 'int_with_dtype_value': ColumnInfo(name='int_with_dtype_value', dtype=Int64, required=True, nullable=False, unique=False, type_annotation=<class 'int'>, contraints=None),\n",
      " 'name': ColumnInfo(name='name', dtype=Utf8, required=True, nullable=False, unique=False, type_annotation=<class 'str'>, contraints=None),\n",
      " 'not_required_bc_has_default': ColumnInfo(name='not_required_bc_has_default', dtype=Boolean, required=False, nullable=False, unique=False, type_annotation=<class 'bool'>, contraints=None)}\n"
     ]
    }
   ],
   "source": [
    "fields = {}\n",
    "for field_name, field_info in model_fields.items():\n",
    "    fields[field_name] = {}\n",
    "\n",
    "    annotation = field_info.annotation\n",
    "\n",
    "    assert annotation is not None, (\n",
    "        f\"Encountered a case where `field_info.annotation` is None for field `{field_name}`.`\"\n",
    "        \"Please report this with an example of your Model in an issue to the patito github repo.\"\n",
    "    )\n",
    "\n",
    "    # If the column type has a union, then the only sensible option is that we are unioned with None\n",
    "    # this means that the column is nullable\n",
    "    nullable = True if get_origin(annotation) is UnionType else False\n",
    "    \n",
    "    if is_single_type(annotation):\n",
    "        # e.g. regular type like int, float, str, bool, but also Enum\n",
    "        if enum_type := get_enum_inner_type(annotation):\n",
    "            python_type = enum_type\n",
    "        else:\n",
    "            python_type = annotation\n",
    "    else:\n",
    "        # `get_args`` transforms:\n",
    "        # int into () # single types become empty tuples\n",
    "        # Union[int, str] into (int, str)\n",
    "        # Optional[int] into (int, NoneType)\n",
    "        # Literal[\"a\", \"b\"] into (\"a\", \"b\")\n",
    "        # list[int] into (int,)\n",
    "        type_args = get_args(field_info.annotation)  # type_args is now e.g. (int, NoneType)\n",
    "\n",
    "        non_null_type_args: tuple[type, ...] = tuple(arg for arg in type_args if arg is not NoneType)  # e.g. ()\n",
    "        # should perform some recursion here to distangle nested types like list[list[int]] or list[Optional[int]]\n",
    "        python_type = non_null_type_args[0] # Should only be one type here, or e.g. int or List[int], not a Union\n",
    "\n",
    "        \n",
    "    dtype = get_dtype(field_info, python_type) # currently doesn't None *inside* list\n",
    "\n",
    "    column_info = ColumnInfo(\n",
    "        name=field_name,\n",
    "        dtype=dtype,\n",
    "        required=field_info.is_required(),\n",
    "        nullable=nullable,\n",
    "        unique=get_is_unique(field_info),\n",
    "        type_annotation=annotation,\n",
    "    )\n",
    "\n",
    "    fields[field_name] = column_info\n",
    "\n",
    "pprint(fields)"
   ]
  },
  {
   "cell_type": "markdown",
   "metadata": {},
   "source": [
    "The above fields are now mostly ready to be used in patito. Still need to add some logic around parsing constraints from the json_schema_extra, and decide how to handle the inner-optional type `list[int | None]` - How should we parse that into `ColumnInfo`? What about `list[list[int | None] | None]`?."
   ]
  },
  {
   "cell_type": "code",
   "execution_count": null,
   "metadata": {},
   "outputs": [],
   "source": []
  },
  {
   "cell_type": "code",
   "execution_count": null,
   "metadata": {},
   "outputs": [],
   "source": []
  },
  {
   "cell_type": "code",
   "execution_count": null,
   "metadata": {},
   "outputs": [],
   "source": []
  },
  {
   "cell_type": "code",
   "execution_count": null,
   "metadata": {},
   "outputs": [],
   "source": []
  },
  {
   "cell_type": "markdown",
   "metadata": {},
   "source": [
    "### Tests I've written along the way"
   ]
  },
  {
   "cell_type": "code",
   "execution_count": 82,
   "metadata": {},
   "outputs": [],
   "source": [
    "# Test unnesting of type hints\n",
    "test_cases = [\n",
    "    (list[list[int]], [list, list, int]),\n",
    "    (float, [float,]),\n",
    "    (list[float], [list, float]),\n",
    "    (list[int | None], [list, (int, None)]),\n",
    "    (int | None, [(int, None)]),\n",
    "    (list[list[int | None]], [list, list, (int, None)]),\n",
    "]\n",
    "\n",
    "# Run the test cases\n",
    "for python_type_hint, expected in test_cases:\n",
    "    result = unnest_type_hint(python_type_hint)\n",
    "    assert result == expected, python_type_hint\n",
    "\n",
    "\n"
   ]
  },
  {
   "cell_type": "code",
   "execution_count": null,
   "metadata": {},
   "outputs": [],
   "source": [
    "# An attempt at unnesting type hints into tuples\n",
    "type_ = list[int | None] | None\n",
    "\n",
    "entries = (type_,)\n",
    "\n",
    "len_entries = len(entries)\n",
    "count = 0\n",
    "while count < len_entries:\n",
    "    entries2 = ()\n",
    "    count = 0\n",
    "    len_entries = len(entries)\n",
    "    for entry in entries:\n",
    "        origin = get_origin(entry)\n",
    "        if origin == UnionType:\n",
    "            print(\"got origin union\")\n",
    "            union_entries = tuple(entry2 for entry2 in get_args(type_))\n",
    "            entries2 += union_entries\n",
    "        elif origin == list:\n",
    "            union_entries = tuple(entry2 for entry2 in get_args(type_))\n",
    "            entries2 += ((list, union_entries),)\n",
    "        else:\n",
    "            print(\"here\", origin)\n",
    "            entries2 += (entry,)\n",
    "            count += 1\n",
    "    entries = entries2\n"
   ]
  }
 ],
 "metadata": {
  "kernelspec": {
   "display_name": ".venv",
   "language": "python",
   "name": "python3"
  },
  "language_info": {
   "codemirror_mode": {
    "name": "ipython",
    "version": 3
   },
   "file_extension": ".py",
   "mimetype": "text/x-python",
   "name": "python",
   "nbconvert_exporter": "python",
   "pygments_lexer": "ipython3",
   "version": "3.11.4"
  }
 },
 "nbformat": 4,
 "nbformat_minor": 2
}
