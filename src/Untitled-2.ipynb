{
 "cells": [
  {
   "cell_type": "code",
   "execution_count": 44,
   "metadata": {},
   "outputs": [],
   "source": [
    "from pydantic import BaseModel, Field\n",
    "from enum import Enum, StrEnum\n",
    "import polars as pl\n",
    "\n",
    "\n",
    "class Foo(Enum):\n",
    "    A = 1\n",
    "    B = 2\n",
    "\n",
    "\n",
    "from datetime import date, datetime\n",
    "from typing import Literal, Optional\n",
    "\n",
    "\n",
    "class SimpleExample(BaseModel):\n",
    "    id: str\n",
    "    name: str\n",
    "    age: int = Field(json_schema_extra={\"dtype\": pl.Int64()})\n",
    "\n",
    "\n",
    "class NearlyCompleteExample(BaseModel):\n",
    "    int_with_dtype_value: int = Field(json_schema_extra={\"dtype\": pl.Int64()})\n",
    "    int_value: int\n",
    "    float_value: float\n",
    "    str_value: str\n",
    "    bool_value: bool\n",
    "    list_value: list[int]\n",
    "    list_value_nullable: list[int | None]\n",
    "    literal_value: Literal[\"a\", \"b\"]\n",
    "    default_value: str = \"my_default\"\n",
    "    optional_value: Optional[int]\n",
    "    bounded_value: int = Field(ge=10, le=20)\n",
    "    date_value: date\n",
    "    datetime_value: datetime\n",
    "    enum_value: Foo"
   ]
  },
  {
   "cell_type": "code",
   "execution_count": 45,
   "metadata": {},
   "outputs": [
    {
     "name": "stdout",
     "output_type": "stream",
     "text": [
      "id annotation=str required=True \t\t ()\n",
      "name annotation=str required=True \t\t ()\n",
      "age annotation=int required=True json_schema_extra={'dtype': Int64} \t\t ()\n"
     ]
    }
   ],
   "source": [
    "from pydantic.fields import FieldInfo\n",
    "from typing import get_args\n",
    "\n",
    "from polars.datatypes import DataType as PolarsDataType\n",
    "\n",
    "\n",
    "class PatitoReducedField(BaseModel, arbitrary_types_allowed=True):\n",
    "    name: str\n",
    "    dtype: PolarsDataType\n",
    "    required: bool\n",
    "    nullable: bool\n",
    "    unique: bool\n",
    "    type_hint: type\n",
    "    contraints: list[pl.Expr] | None = None\n",
    "\n",
    "\n",
    "def is_single_type(type: type) -> bool:\n",
    "    \"\"\"Type hint is a single type.\n",
    "    \n",
    "    True for: int, str, float, bool, etc.\n",
    "    False for: Optional[int], Union[int, str], Literal[\"a\", \"b\"], etc.\n",
    "    \"\"\"\n",
    "    return get_args(type) == ()\n",
    "\n",
    "\n",
    "def is_literal(type_: type) -> bool:\n",
    "    \"Determine whether the type hint is a Literal type.\"\n",
    "    try:\n",
    "        return type_.__dict__[\"__origin__\"] is Literal\n",
    "    except KeyError:\n",
    "        return False\n",
    "\n",
    "\n",
    "def get_enum_inner_type(enum: type) -> type | None:\n",
    "    \"Get the type of the values of the enum if it exists, None otherwise.\"\n",
    "    if issubclass(enum, Enum):\n",
    "        enum_types = set(type(value) for value in enum)  # type: ignore\n",
    "        if len(enum_types) > 1:\n",
    "            raise TypeError(\n",
    "                \"All enumerated values of enums used to annotate \"\n",
    "                \"Patito model fields must have the same type. \"\n",
    "                \"Encountered types: \"\n",
    "                f\"{sorted(map(lambda t: t.__name__, enum_types))}.\"\n",
    "            )\n",
    "        enum_type = enum_types.pop()\n",
    "    else:\n",
    "        enum_type = None\n",
    "    return enum_type\n",
    "\n",
    "\n",
    "\n",
    "\n",
    "model_fields = Example.model_fields\n",
    "\n",
    "for field_name, field_info in model_fields.items():\n",
    "    print(field_name, field_info, \"\\t\\t\", get_args(field_info.annotation))"
   ]
  },
  {
   "cell_type": "code",
   "execution_count": 42,
   "metadata": {},
   "outputs": [
    {
     "data": {
      "text/plain": [
       "FieldInfo(annotation=str, required=True)"
      ]
     },
     "execution_count": 42,
     "metadata": {},
     "output_type": "execute_result"
    }
   ],
   "source": [
    "model_fields[\"id\"]"
   ]
  },
  {
   "cell_type": "code",
   "execution_count": 37,
   "metadata": {},
   "outputs": [
    {
     "name": "stdout",
     "output_type": "stream",
     "text": [
      "id\n",
      "name\n",
      "age\n",
      "{'id', 'name', 'age'}\n"
     ]
    }
   ],
   "source": [
    "# construct a dictionary containing the relevant field information from the pydantic model\n",
    "from patito.pydantic import PYTHON_TO_POLARS_TYPES\n",
    "\n",
    "def get_polars_dtype(field_info: FieldInfo) -> PolarsDataType | None:\n",
    "    if schema_extra := field_info.json_schema_extra:\n",
    "        dtype = schema_extra.get(\"dtype\")\n",
    "    else:\n",
    "        dtype = None\n",
    "    return dtype\n",
    "\n",
    "def get_dtype(field_info: FieldInfo, type_hint_type: type) -> PolarsDataType:\n",
    "    return get_polars_dtype(field_info) or PYTHON_TO_POLARS_TYPES[type_hint_type]\n",
    "\n",
    "fields = {}\n",
    "for field_name, field_info in model_fields.items():\n",
    "    print(field_name)\n",
    "    fields[field_name] = {}\n",
    "\n",
    "    assert field_info.annotation is not None, (\n",
    "        f\"Encountered a case where `field_info.annotation` is None for field `{field_name}`.`\"\n",
    "        \"Please report this with an example of your Model in an issue to the patito github repo.\"\n",
    "    )\n",
    "    if is_single_type(field_info.annotation):\n",
    "        # e.g. regular type like int, float, str, bool, but also Enum\n",
    "        if enum_type := get_enum_inner_type(field_info.annotation):\n",
    "            type_hint_type = enum_type\n",
    "        else:\n",
    "            type_hint_type = field_info.annotation\n",
    "        dtype = get_dtype(field_info, type_hint_type)\n",
    "    else:\n",
    "        # e.g. list[int], list[int | None], Literal[\"a\", \"b\"] or nullable types like Optional[int] or date | None\n",
    "        type_hint_type = int\n",
    "        fields[field_name][\"type_hint\"] = type_hint_type\n",
    "\n",
    "    PatitoReducedField(name =field_name, dtype=dtype, required=field_info.is_required(), nullable=field_info.allow_none, unique=False, type_hint=type_hint_type)\n",
    "\n",
    "print(get_required(model_fields))"
   ]
  },
  {
   "cell_type": "code",
   "execution_count": 124,
   "metadata": {},
   "outputs": [],
   "source": [
    "import patito as pt\n",
    "class MyModel(pt.Model):\n",
    "    # Required column, does not allow nulls\n",
    "    a: int\n",
    "\n",
    "ExpandedModel = MyModel.with_fields(\n",
    "    # Does not allow the column to be missing, and no nulls\n",
    "    b=(int, ...),\n",
    "    # Allows missing column, but do not allow explicit nulls\n",
    "    c=(int, None),\n",
    "    # Required column, must have values greater than 10\n",
    "    d=(int, pt.Field(gt=10)),\n",
    "    # Allows missing column, allows explicit nulls\n",
    "    e=(int | None, None),\n",
    ")"
   ]
  },
  {
   "cell_type": "code",
   "execution_count": null,
   "metadata": {},
   "outputs": [],
   "source": [
    "from pydantic import BaseModel, Field\n",
    "import polars as pl\n",
    "\n",
    "\n",
    "class Foo:\n",
    "    bar = 1\n",
    "\n",
    "class Example(BaseModel):\n",
    "    name: str = 'example'\n",
    "    dtype1: str = 'example'\n",
    "    dtype2: int = Field(1, json_schema_extra = {\"dtype\":pl.Int64()})\n",
    "\n",
    "Example.model_json_schema() # works in 2.3, fails in 2.4"
   ]
  },
  {
   "cell_type": "code",
   "execution_count": 6,
   "metadata": {},
   "outputs": [],
   "source": [
    "class Example(BaseModel, arbitrary_types_allowed=True):\n",
    "    name: str = 'example'\n",
    "    dtype1: str = 'example'\n",
    "    dtype2: pl.Int64\n"
   ]
  },
  {
   "cell_type": "code",
   "execution_count": 7,
   "metadata": {},
   "outputs": [
    {
     "ename": "PydanticInvalidForJsonSchema",
     "evalue": "Cannot generate a JsonSchema for core_schema.IsInstanceSchema (Int64)\n\nFor further information visit https://errors.pydantic.dev/2.3/u/invalid-for-json-schema",
     "output_type": "error",
     "traceback": [
      "\u001b[0;31m---------------------------------------------------------------------------\u001b[0m",
      "\u001b[0;31mPydanticInvalidForJsonSchema\u001b[0m              Traceback (most recent call last)",
      "\u001b[1;32mUntitled-1.ipynb Cell 4\u001b[0m line \u001b[0;36m1\n\u001b[0;32m----> <a href='vscode-notebook-cell:Untitled-1.ipynb?jupyter-notebook#W4sdW50aXRsZWQ%3D?line=0'>1</a>\u001b[0m Example\u001b[39m.\u001b[39;49mmodel_json_schema()\n",
      "File \u001b[0;32m~/repos/patito/.venv/lib/python3.11/site-packages/pydantic/main.py:386\u001b[0m, in \u001b[0;36mBaseModel.model_json_schema\u001b[0;34m(cls, by_alias, ref_template, schema_generator, mode)\u001b[0m\n\u001b[1;32m    366\u001b[0m \u001b[39m@classmethod\u001b[39m\n\u001b[1;32m    367\u001b[0m \u001b[39mdef\u001b[39;00m \u001b[39mmodel_json_schema\u001b[39m(\n\u001b[1;32m    368\u001b[0m     \u001b[39mcls\u001b[39m,\n\u001b[0;32m   (...)\u001b[0m\n\u001b[1;32m    372\u001b[0m     mode: JsonSchemaMode \u001b[39m=\u001b[39m \u001b[39m'\u001b[39m\u001b[39mvalidation\u001b[39m\u001b[39m'\u001b[39m,\n\u001b[1;32m    373\u001b[0m ) \u001b[39m-\u001b[39m\u001b[39m>\u001b[39m \u001b[39mdict\u001b[39m[\u001b[39mstr\u001b[39m, Any]:\n\u001b[1;32m    374\u001b[0m \u001b[39m    \u001b[39m\u001b[39m\"\"\"Generates a JSON schema for a model class.\u001b[39;00m\n\u001b[1;32m    375\u001b[0m \n\u001b[1;32m    376\u001b[0m \u001b[39m    Args:\u001b[39;00m\n\u001b[0;32m   (...)\u001b[0m\n\u001b[1;32m    384\u001b[0m \u001b[39m        The JSON schema for the given model class.\u001b[39;00m\n\u001b[1;32m    385\u001b[0m \u001b[39m    \"\"\"\u001b[39;00m\n\u001b[0;32m--> 386\u001b[0m     \u001b[39mreturn\u001b[39;00m model_json_schema(\n\u001b[1;32m    387\u001b[0m         \u001b[39mcls\u001b[39;49m, by_alias\u001b[39m=\u001b[39;49mby_alias, ref_template\u001b[39m=\u001b[39;49mref_template, schema_generator\u001b[39m=\u001b[39;49mschema_generator, mode\u001b[39m=\u001b[39;49mmode\n\u001b[1;32m    388\u001b[0m     )\n",
      "File \u001b[0;32m~/repos/patito/.venv/lib/python3.11/site-packages/pydantic/json_schema.py:2125\u001b[0m, in \u001b[0;36mmodel_json_schema\u001b[0;34m(cls, by_alias, ref_template, schema_generator, mode)\u001b[0m\n\u001b[1;32m   2123\u001b[0m     \u001b[39mcls\u001b[39m\u001b[39m.\u001b[39m__pydantic_validator__\u001b[39m.\u001b[39mrebuild()\n\u001b[1;32m   2124\u001b[0m \u001b[39massert\u001b[39;00m \u001b[39m'\u001b[39m\u001b[39m__pydantic_core_schema__\u001b[39m\u001b[39m'\u001b[39m \u001b[39min\u001b[39;00m \u001b[39mcls\u001b[39m\u001b[39m.\u001b[39m\u001b[39m__dict__\u001b[39m, \u001b[39m'\u001b[39m\u001b[39mthis is a bug! please report it\u001b[39m\u001b[39m'\u001b[39m\n\u001b[0;32m-> 2125\u001b[0m \u001b[39mreturn\u001b[39;00m schema_generator_instance\u001b[39m.\u001b[39;49mgenerate(\u001b[39mcls\u001b[39;49m\u001b[39m.\u001b[39;49m__pydantic_core_schema__, mode\u001b[39m=\u001b[39;49mmode)\n",
      "File \u001b[0;32m~/repos/patito/.venv/lib/python3.11/site-packages/pydantic/json_schema.py:391\u001b[0m, in \u001b[0;36mGenerateJsonSchema.generate\u001b[0;34m(self, schema, mode)\u001b[0m\n\u001b[1;32m    384\u001b[0m     \u001b[39mraise\u001b[39;00m PydanticUserError(\n\u001b[1;32m    385\u001b[0m         \u001b[39m'\u001b[39m\u001b[39mThis JSON schema generator has already been used to generate a JSON schema. \u001b[39m\u001b[39m'\u001b[39m\n\u001b[1;32m    386\u001b[0m         \u001b[39mf\u001b[39m\u001b[39m'\u001b[39m\u001b[39mYou must create a new instance of \u001b[39m\u001b[39m{\u001b[39;00m\u001b[39mtype\u001b[39m(\u001b[39mself\u001b[39m)\u001b[39m.\u001b[39m\u001b[39m__name__\u001b[39m\u001b[39m}\u001b[39;00m\u001b[39m to generate a new JSON schema.\u001b[39m\u001b[39m'\u001b[39m,\n\u001b[1;32m    387\u001b[0m         code\u001b[39m=\u001b[39m\u001b[39m'\u001b[39m\u001b[39mjson-schema-already-used\u001b[39m\u001b[39m'\u001b[39m,\n\u001b[1;32m    388\u001b[0m     )\n\u001b[1;32m    390\u001b[0m json_schema: JsonSchemaValue \u001b[39m=\u001b[39m \u001b[39mself\u001b[39m\u001b[39m.\u001b[39mgenerate_inner(schema)\n\u001b[0;32m--> 391\u001b[0m json_ref_counts \u001b[39m=\u001b[39m \u001b[39mself\u001b[39;49m\u001b[39m.\u001b[39;49mget_json_ref_counts(json_schema)\n\u001b[1;32m    393\u001b[0m \u001b[39m# Remove the top-level $ref if present; note that the _generate method already ensures there are no sibling keys\u001b[39;00m\n\u001b[1;32m    394\u001b[0m ref \u001b[39m=\u001b[39m cast(JsonRef, json_schema\u001b[39m.\u001b[39mget(\u001b[39m'\u001b[39m\u001b[39m$ref\u001b[39m\u001b[39m'\u001b[39m))\n",
      "File \u001b[0;32m~/repos/patito/.venv/lib/python3.11/site-packages/pydantic/json_schema.py:2037\u001b[0m, in \u001b[0;36mGenerateJsonSchema.get_json_ref_counts\u001b[0;34m(self, json_schema)\u001b[0m\n\u001b[1;32m   2034\u001b[0m         \u001b[39mfor\u001b[39;00m v \u001b[39min\u001b[39;00m schema:\n\u001b[1;32m   2035\u001b[0m             _add_json_refs(v)\n\u001b[0;32m-> 2037\u001b[0m _add_json_refs(json_schema)\n\u001b[1;32m   2038\u001b[0m \u001b[39mreturn\u001b[39;00m json_refs\n",
      "File \u001b[0;32m~/repos/patito/.venv/lib/python3.11/site-packages/pydantic/json_schema.py:2028\u001b[0m, in \u001b[0;36mGenerateJsonSchema.get_json_ref_counts.<locals>._add_json_refs\u001b[0;34m(schema)\u001b[0m\n\u001b[1;32m   2026\u001b[0m     defs_ref \u001b[39m=\u001b[39m \u001b[39mself\u001b[39m\u001b[39m.\u001b[39mjson_to_defs_refs[json_ref]\n\u001b[1;32m   2027\u001b[0m     \u001b[39mif\u001b[39;00m defs_ref \u001b[39min\u001b[39;00m \u001b[39mself\u001b[39m\u001b[39m.\u001b[39m_core_defs_invalid_for_json_schema:\n\u001b[0;32m-> 2028\u001b[0m         \u001b[39mraise\u001b[39;00m \u001b[39mself\u001b[39m\u001b[39m.\u001b[39m_core_defs_invalid_for_json_schema[defs_ref]\n\u001b[1;32m   2029\u001b[0m     _add_json_refs(\u001b[39mself\u001b[39m\u001b[39m.\u001b[39mdefinitions[defs_ref])\n\u001b[1;32m   2031\u001b[0m \u001b[39mfor\u001b[39;00m v \u001b[39min\u001b[39;00m schema\u001b[39m.\u001b[39mvalues():\n",
      "File \u001b[0;32m~/repos/patito/.venv/lib/python3.11/site-packages/pydantic/json_schema.py:1707\u001b[0m, in \u001b[0;36mGenerateJsonSchema.definitions_schema\u001b[0;34m(self, schema)\u001b[0m\n\u001b[1;32m   1705\u001b[0m \u001b[39mfor\u001b[39;00m definition \u001b[39min\u001b[39;00m schema[\u001b[39m'\u001b[39m\u001b[39mdefinitions\u001b[39m\u001b[39m'\u001b[39m]:\n\u001b[1;32m   1706\u001b[0m     \u001b[39mtry\u001b[39;00m:\n\u001b[0;32m-> 1707\u001b[0m         \u001b[39mself\u001b[39;49m\u001b[39m.\u001b[39;49mgenerate_inner(definition)\n\u001b[1;32m   1708\u001b[0m     \u001b[39mexcept\u001b[39;00m PydanticInvalidForJsonSchema \u001b[39mas\u001b[39;00m e:\n\u001b[1;32m   1709\u001b[0m         core_ref: CoreRef \u001b[39m=\u001b[39m CoreRef(definition[\u001b[39m'\u001b[39m\u001b[39mref\u001b[39m\u001b[39m'\u001b[39m])  \u001b[39m# type: ignore\u001b[39;00m\n",
      "File \u001b[0;32m~/repos/patito/.venv/lib/python3.11/site-packages/pydantic/json_schema.py:529\u001b[0m, in \u001b[0;36mGenerateJsonSchema.generate_inner\u001b[0;34m(self, schema)\u001b[0m\n\u001b[1;32m    525\u001b[0m         \u001b[39mreturn\u001b[39;00m json_schema\n\u001b[1;32m    527\u001b[0m     current_handler \u001b[39m=\u001b[39m _schema_generation_shared\u001b[39m.\u001b[39mGenerateJsonSchemaHandler(\u001b[39mself\u001b[39m, new_handler_func)\n\u001b[0;32m--> 529\u001b[0m json_schema \u001b[39m=\u001b[39m current_handler(schema)\n\u001b[1;32m    530\u001b[0m \u001b[39mif\u001b[39;00m _core_utils\u001b[39m.\u001b[39mis_core_schema(schema):\n\u001b[1;32m    531\u001b[0m     json_schema \u001b[39m=\u001b[39m populate_defs(schema, json_schema)\n",
      "File \u001b[0;32m~/repos/patito/.venv/lib/python3.11/site-packages/pydantic/_internal/_schema_generation_shared.py:36\u001b[0m, in \u001b[0;36mGenerateJsonSchemaHandler.__call__\u001b[0;34m(self, _GenerateJsonSchemaHandler__core_schema)\u001b[0m\n\u001b[1;32m     35\u001b[0m \u001b[39mdef\u001b[39;00m \u001b[39m__call__\u001b[39m(\u001b[39mself\u001b[39m, __core_schema: CoreSchemaOrField) \u001b[39m-\u001b[39m\u001b[39m>\u001b[39m JsonSchemaValue:\n\u001b[0;32m---> 36\u001b[0m     \u001b[39mreturn\u001b[39;00m \u001b[39mself\u001b[39;49m\u001b[39m.\u001b[39;49mhandler(__core_schema)\n",
      "File \u001b[0;32m~/repos/patito/.venv/lib/python3.11/site-packages/pydantic/json_schema.py:503\u001b[0m, in \u001b[0;36mGenerateJsonSchema.generate_inner.<locals>.new_handler_func\u001b[0;34m(schema_or_field, current_handler, js_modify_function)\u001b[0m\n\u001b[1;32m    498\u001b[0m \u001b[39mdef\u001b[39;00m \u001b[39mnew_handler_func\u001b[39m(\n\u001b[1;32m    499\u001b[0m     schema_or_field: CoreSchemaOrField,\n\u001b[1;32m    500\u001b[0m     current_handler: GetJsonSchemaHandler \u001b[39m=\u001b[39m current_handler,\n\u001b[1;32m    501\u001b[0m     js_modify_function: GetJsonSchemaFunction \u001b[39m=\u001b[39m js_modify_function,\n\u001b[1;32m    502\u001b[0m ) \u001b[39m-\u001b[39m\u001b[39m>\u001b[39m JsonSchemaValue:\n\u001b[0;32m--> 503\u001b[0m     json_schema \u001b[39m=\u001b[39m js_modify_function(schema_or_field, current_handler)\n\u001b[1;32m    504\u001b[0m     \u001b[39mif\u001b[39;00m _core_utils\u001b[39m.\u001b[39mis_core_schema(schema_or_field):\n\u001b[1;32m    505\u001b[0m         json_schema \u001b[39m=\u001b[39m populate_defs(schema_or_field, json_schema)\n",
      "File \u001b[0;32m~/repos/patito/.venv/lib/python3.11/site-packages/pydantic/main.py:582\u001b[0m, in \u001b[0;36mBaseModel.__get_pydantic_json_schema__\u001b[0;34m(cls, _BaseModel__core_schema, _BaseModel__handler)\u001b[0m\n\u001b[1;32m    559\u001b[0m \u001b[39m@classmethod\u001b[39m\n\u001b[1;32m    560\u001b[0m \u001b[39mdef\u001b[39;00m \u001b[39m__get_pydantic_json_schema__\u001b[39m(\n\u001b[1;32m    561\u001b[0m     \u001b[39mcls\u001b[39m,\n\u001b[1;32m    562\u001b[0m     __core_schema: CoreSchema,\n\u001b[1;32m    563\u001b[0m     __handler: _annotated_handlers\u001b[39m.\u001b[39mGetJsonSchemaHandler,\n\u001b[1;32m    564\u001b[0m ) \u001b[39m-\u001b[39m\u001b[39m>\u001b[39m JsonSchemaValue:\n\u001b[1;32m    565\u001b[0m \u001b[39m    \u001b[39m\u001b[39m\"\"\"Hook into generating the model's JSON schema.\u001b[39;00m\n\u001b[1;32m    566\u001b[0m \n\u001b[1;32m    567\u001b[0m \u001b[39m    Args:\u001b[39;00m\n\u001b[0;32m   (...)\u001b[0m\n\u001b[1;32m    580\u001b[0m \u001b[39m        A JSON schema, as a Python object.\u001b[39;00m\n\u001b[1;32m    581\u001b[0m \u001b[39m    \"\"\"\u001b[39;00m\n\u001b[0;32m--> 582\u001b[0m     \u001b[39mreturn\u001b[39;00m __handler(__core_schema)\n",
      "File \u001b[0;32m~/repos/patito/.venv/lib/python3.11/site-packages/pydantic/_internal/_schema_generation_shared.py:36\u001b[0m, in \u001b[0;36mGenerateJsonSchemaHandler.__call__\u001b[0;34m(self, _GenerateJsonSchemaHandler__core_schema)\u001b[0m\n\u001b[1;32m     35\u001b[0m \u001b[39mdef\u001b[39;00m \u001b[39m__call__\u001b[39m(\u001b[39mself\u001b[39m, __core_schema: CoreSchemaOrField) \u001b[39m-\u001b[39m\u001b[39m>\u001b[39m JsonSchemaValue:\n\u001b[0;32m---> 36\u001b[0m     \u001b[39mreturn\u001b[39;00m \u001b[39mself\u001b[39;49m\u001b[39m.\u001b[39;49mhandler(__core_schema)\n",
      "File \u001b[0;32m~/repos/patito/.venv/lib/python3.11/site-packages/pydantic/json_schema.py:503\u001b[0m, in \u001b[0;36mGenerateJsonSchema.generate_inner.<locals>.new_handler_func\u001b[0;34m(schema_or_field, current_handler, js_modify_function)\u001b[0m\n\u001b[1;32m    498\u001b[0m \u001b[39mdef\u001b[39;00m \u001b[39mnew_handler_func\u001b[39m(\n\u001b[1;32m    499\u001b[0m     schema_or_field: CoreSchemaOrField,\n\u001b[1;32m    500\u001b[0m     current_handler: GetJsonSchemaHandler \u001b[39m=\u001b[39m current_handler,\n\u001b[1;32m    501\u001b[0m     js_modify_function: GetJsonSchemaFunction \u001b[39m=\u001b[39m js_modify_function,\n\u001b[1;32m    502\u001b[0m ) \u001b[39m-\u001b[39m\u001b[39m>\u001b[39m JsonSchemaValue:\n\u001b[0;32m--> 503\u001b[0m     json_schema \u001b[39m=\u001b[39m js_modify_function(schema_or_field, current_handler)\n\u001b[1;32m    504\u001b[0m     \u001b[39mif\u001b[39;00m _core_utils\u001b[39m.\u001b[39mis_core_schema(schema_or_field):\n\u001b[1;32m    505\u001b[0m         json_schema \u001b[39m=\u001b[39m populate_defs(schema_or_field, json_schema)\n",
      "File \u001b[0;32m~/repos/patito/.venv/lib/python3.11/site-packages/pydantic/_internal/_generate_schema.py:211\u001b[0m, in \u001b[0;36mmodify_model_json_schema\u001b[0;34m(schema_or_field, handler, cls)\u001b[0m\n\u001b[1;32m    198\u001b[0m \u001b[39mdef\u001b[39;00m \u001b[39mmodify_model_json_schema\u001b[39m(\n\u001b[1;32m    199\u001b[0m     schema_or_field: CoreSchemaOrField, handler: GetJsonSchemaHandler, \u001b[39m*\u001b[39m, \u001b[39mcls\u001b[39m: Any\n\u001b[1;32m    200\u001b[0m ) \u001b[39m-\u001b[39m\u001b[39m>\u001b[39m JsonSchemaValue:\n\u001b[1;32m    201\u001b[0m \u001b[39m    \u001b[39m\u001b[39m\"\"\"Add title and description for model-like classes' JSON schema.\u001b[39;00m\n\u001b[1;32m    202\u001b[0m \n\u001b[1;32m    203\u001b[0m \u001b[39m    Args:\u001b[39;00m\n\u001b[0;32m   (...)\u001b[0m\n\u001b[1;32m    209\u001b[0m \u001b[39m        JsonSchemaValue: The updated JSON schema.\u001b[39;00m\n\u001b[1;32m    210\u001b[0m \u001b[39m    \"\"\"\u001b[39;00m\n\u001b[0;32m--> 211\u001b[0m     json_schema \u001b[39m=\u001b[39m handler(schema_or_field)\n\u001b[1;32m    212\u001b[0m     original_schema \u001b[39m=\u001b[39m handler\u001b[39m.\u001b[39mresolve_ref_schema(json_schema)\n\u001b[1;32m    213\u001b[0m     \u001b[39m# Preserve the fact that definitions schemas should never have sibling keys:\u001b[39;00m\n",
      "File \u001b[0;32m~/repos/patito/.venv/lib/python3.11/site-packages/pydantic/_internal/_schema_generation_shared.py:36\u001b[0m, in \u001b[0;36mGenerateJsonSchemaHandler.__call__\u001b[0;34m(self, _GenerateJsonSchemaHandler__core_schema)\u001b[0m\n\u001b[1;32m     35\u001b[0m \u001b[39mdef\u001b[39;00m \u001b[39m__call__\u001b[39m(\u001b[39mself\u001b[39m, __core_schema: CoreSchemaOrField) \u001b[39m-\u001b[39m\u001b[39m>\u001b[39m JsonSchemaValue:\n\u001b[0;32m---> 36\u001b[0m     \u001b[39mreturn\u001b[39;00m \u001b[39mself\u001b[39;49m\u001b[39m.\u001b[39;49mhandler(__core_schema)\n",
      "File \u001b[0;32m~/repos/patito/.venv/lib/python3.11/site-packages/pydantic/json_schema.py:486\u001b[0m, in \u001b[0;36mGenerateJsonSchema.generate_inner.<locals>.handler_func\u001b[0;34m(schema_or_field)\u001b[0m\n\u001b[1;32m    484\u001b[0m \u001b[39mif\u001b[39;00m _core_utils\u001b[39m.\u001b[39mis_core_schema(schema_or_field) \u001b[39mor\u001b[39;00m _core_utils\u001b[39m.\u001b[39mis_core_schema_field(schema_or_field):\n\u001b[1;32m    485\u001b[0m     generate_for_schema_type \u001b[39m=\u001b[39m \u001b[39mself\u001b[39m\u001b[39m.\u001b[39m_schema_type_to_method[schema_or_field[\u001b[39m'\u001b[39m\u001b[39mtype\u001b[39m\u001b[39m'\u001b[39m]]\n\u001b[0;32m--> 486\u001b[0m     json_schema \u001b[39m=\u001b[39m generate_for_schema_type(schema_or_field)\n\u001b[1;32m    487\u001b[0m \u001b[39melse\u001b[39;00m:\n\u001b[1;32m    488\u001b[0m     \u001b[39mraise\u001b[39;00m \u001b[39mTypeError\u001b[39;00m(\u001b[39mf\u001b[39m\u001b[39m'\u001b[39m\u001b[39mUnexpected schema type: schema=\u001b[39m\u001b[39m{\u001b[39;00mschema_or_field\u001b[39m}\u001b[39;00m\u001b[39m'\u001b[39m)\n",
      "File \u001b[0;32m~/repos/patito/.venv/lib/python3.11/site-packages/pydantic/json_schema.py:1289\u001b[0m, in \u001b[0;36mGenerateJsonSchema.model_schema\u001b[0;34m(self, schema)\u001b[0m\n\u001b[1;32m   1279\u001b[0m \u001b[39m\u001b[39m\u001b[39m\"\"\"Generates a JSON schema that matches a schema that defines a model.\u001b[39;00m\n\u001b[1;32m   1280\u001b[0m \n\u001b[1;32m   1281\u001b[0m \u001b[39mArgs:\u001b[39;00m\n\u001b[0;32m   (...)\u001b[0m\n\u001b[1;32m   1285\u001b[0m \u001b[39m    The generated JSON schema.\u001b[39;00m\n\u001b[1;32m   1286\u001b[0m \u001b[39m\"\"\"\u001b[39;00m\n\u001b[1;32m   1287\u001b[0m \u001b[39m# We do not use schema['model'].model_json_schema() here\u001b[39;00m\n\u001b[1;32m   1288\u001b[0m \u001b[39m# because it could lead to inconsistent refs handling, etc.\u001b[39;00m\n\u001b[0;32m-> 1289\u001b[0m json_schema \u001b[39m=\u001b[39m \u001b[39mself\u001b[39;49m\u001b[39m.\u001b[39;49mgenerate_inner(schema[\u001b[39m'\u001b[39;49m\u001b[39mschema\u001b[39;49m\u001b[39m'\u001b[39;49m])\n\u001b[1;32m   1291\u001b[0m \u001b[39mcls\u001b[39m \u001b[39m=\u001b[39m cast(\u001b[39m'\u001b[39m\u001b[39mtype[BaseModel]\u001b[39m\u001b[39m'\u001b[39m, schema[\u001b[39m'\u001b[39m\u001b[39mcls\u001b[39m\u001b[39m'\u001b[39m])\n\u001b[1;32m   1292\u001b[0m config \u001b[39m=\u001b[39m \u001b[39mcls\u001b[39m\u001b[39m.\u001b[39mmodel_config\n",
      "File \u001b[0;32m~/repos/patito/.venv/lib/python3.11/site-packages/pydantic/json_schema.py:529\u001b[0m, in \u001b[0;36mGenerateJsonSchema.generate_inner\u001b[0;34m(self, schema)\u001b[0m\n\u001b[1;32m    525\u001b[0m         \u001b[39mreturn\u001b[39;00m json_schema\n\u001b[1;32m    527\u001b[0m     current_handler \u001b[39m=\u001b[39m _schema_generation_shared\u001b[39m.\u001b[39mGenerateJsonSchemaHandler(\u001b[39mself\u001b[39m, new_handler_func)\n\u001b[0;32m--> 529\u001b[0m json_schema \u001b[39m=\u001b[39m current_handler(schema)\n\u001b[1;32m    530\u001b[0m \u001b[39mif\u001b[39;00m _core_utils\u001b[39m.\u001b[39mis_core_schema(schema):\n\u001b[1;32m    531\u001b[0m     json_schema \u001b[39m=\u001b[39m populate_defs(schema, json_schema)\n",
      "File \u001b[0;32m~/repos/patito/.venv/lib/python3.11/site-packages/pydantic/_internal/_schema_generation_shared.py:36\u001b[0m, in \u001b[0;36mGenerateJsonSchemaHandler.__call__\u001b[0;34m(self, _GenerateJsonSchemaHandler__core_schema)\u001b[0m\n\u001b[1;32m     35\u001b[0m \u001b[39mdef\u001b[39;00m \u001b[39m__call__\u001b[39m(\u001b[39mself\u001b[39m, __core_schema: CoreSchemaOrField) \u001b[39m-\u001b[39m\u001b[39m>\u001b[39m JsonSchemaValue:\n\u001b[0;32m---> 36\u001b[0m     \u001b[39mreturn\u001b[39;00m \u001b[39mself\u001b[39;49m\u001b[39m.\u001b[39;49mhandler(__core_schema)\n",
      "File \u001b[0;32m~/repos/patito/.venv/lib/python3.11/site-packages/pydantic/json_schema.py:486\u001b[0m, in \u001b[0;36mGenerateJsonSchema.generate_inner.<locals>.handler_func\u001b[0;34m(schema_or_field)\u001b[0m\n\u001b[1;32m    484\u001b[0m \u001b[39mif\u001b[39;00m _core_utils\u001b[39m.\u001b[39mis_core_schema(schema_or_field) \u001b[39mor\u001b[39;00m _core_utils\u001b[39m.\u001b[39mis_core_schema_field(schema_or_field):\n\u001b[1;32m    485\u001b[0m     generate_for_schema_type \u001b[39m=\u001b[39m \u001b[39mself\u001b[39m\u001b[39m.\u001b[39m_schema_type_to_method[schema_or_field[\u001b[39m'\u001b[39m\u001b[39mtype\u001b[39m\u001b[39m'\u001b[39m]]\n\u001b[0;32m--> 486\u001b[0m     json_schema \u001b[39m=\u001b[39m generate_for_schema_type(schema_or_field)\n\u001b[1;32m    487\u001b[0m \u001b[39melse\u001b[39;00m:\n\u001b[1;32m    488\u001b[0m     \u001b[39mraise\u001b[39;00m \u001b[39mTypeError\u001b[39;00m(\u001b[39mf\u001b[39m\u001b[39m'\u001b[39m\u001b[39mUnexpected schema type: schema=\u001b[39m\u001b[39m{\u001b[39;00mschema_or_field\u001b[39m}\u001b[39;00m\u001b[39m'\u001b[39m)\n",
      "File \u001b[0;32m~/repos/patito/.venv/lib/python3.11/site-packages/pydantic/json_schema.py:1385\u001b[0m, in \u001b[0;36mGenerateJsonSchema.model_fields_schema\u001b[0;34m(self, schema)\u001b[0m\n\u001b[1;32m   1383\u001b[0m \u001b[39mif\u001b[39;00m \u001b[39mself\u001b[39m\u001b[39m.\u001b[39mmode \u001b[39m==\u001b[39m \u001b[39m'\u001b[39m\u001b[39mserialization\u001b[39m\u001b[39m'\u001b[39m:\n\u001b[1;32m   1384\u001b[0m     named_required_fields\u001b[39m.\u001b[39mextend(\u001b[39mself\u001b[39m\u001b[39m.\u001b[39m_name_required_computed_fields(schema\u001b[39m.\u001b[39mget(\u001b[39m'\u001b[39m\u001b[39mcomputed_fields\u001b[39m\u001b[39m'\u001b[39m, [])))\n\u001b[0;32m-> 1385\u001b[0m json_schema \u001b[39m=\u001b[39m \u001b[39mself\u001b[39;49m\u001b[39m.\u001b[39;49m_named_required_fields_schema(named_required_fields)\n\u001b[1;32m   1386\u001b[0m extra_validator \u001b[39m=\u001b[39m schema\u001b[39m.\u001b[39mget(\u001b[39m'\u001b[39m\u001b[39mextra_validator\u001b[39m\u001b[39m'\u001b[39m, \u001b[39mNone\u001b[39;00m)\n\u001b[1;32m   1387\u001b[0m \u001b[39mif\u001b[39;00m extra_validator \u001b[39mis\u001b[39;00m \u001b[39mnot\u001b[39;00m \u001b[39mNone\u001b[39;00m:\n",
      "File \u001b[0;32m~/repos/patito/.venv/lib/python3.11/site-packages/pydantic/json_schema.py:1197\u001b[0m, in \u001b[0;36mGenerateJsonSchema._named_required_fields_schema\u001b[0;34m(self, named_required_fields)\u001b[0m\n\u001b[1;32m   1195\u001b[0m     name \u001b[39m=\u001b[39m \u001b[39mself\u001b[39m\u001b[39m.\u001b[39m_get_alias_name(field, name)\n\u001b[1;32m   1196\u001b[0m \u001b[39mtry\u001b[39;00m:\n\u001b[0;32m-> 1197\u001b[0m     field_json_schema \u001b[39m=\u001b[39m \u001b[39mself\u001b[39;49m\u001b[39m.\u001b[39;49mgenerate_inner(field)\u001b[39m.\u001b[39mcopy()\n\u001b[1;32m   1198\u001b[0m \u001b[39mexcept\u001b[39;00m PydanticOmit:\n\u001b[1;32m   1199\u001b[0m     \u001b[39mcontinue\u001b[39;00m\n",
      "File \u001b[0;32m~/repos/patito/.venv/lib/python3.11/site-packages/pydantic/json_schema.py:529\u001b[0m, in \u001b[0;36mGenerateJsonSchema.generate_inner\u001b[0;34m(self, schema)\u001b[0m\n\u001b[1;32m    525\u001b[0m         \u001b[39mreturn\u001b[39;00m json_schema\n\u001b[1;32m    527\u001b[0m     current_handler \u001b[39m=\u001b[39m _schema_generation_shared\u001b[39m.\u001b[39mGenerateJsonSchemaHandler(\u001b[39mself\u001b[39m, new_handler_func)\n\u001b[0;32m--> 529\u001b[0m json_schema \u001b[39m=\u001b[39m current_handler(schema)\n\u001b[1;32m    530\u001b[0m \u001b[39mif\u001b[39;00m _core_utils\u001b[39m.\u001b[39mis_core_schema(schema):\n\u001b[1;32m    531\u001b[0m     json_schema \u001b[39m=\u001b[39m populate_defs(schema, json_schema)\n",
      "File \u001b[0;32m~/repos/patito/.venv/lib/python3.11/site-packages/pydantic/_internal/_schema_generation_shared.py:36\u001b[0m, in \u001b[0;36mGenerateJsonSchemaHandler.__call__\u001b[0;34m(self, _GenerateJsonSchemaHandler__core_schema)\u001b[0m\n\u001b[1;32m     35\u001b[0m \u001b[39mdef\u001b[39;00m \u001b[39m__call__\u001b[39m(\u001b[39mself\u001b[39m, __core_schema: CoreSchemaOrField) \u001b[39m-\u001b[39m\u001b[39m>\u001b[39m JsonSchemaValue:\n\u001b[0;32m---> 36\u001b[0m     \u001b[39mreturn\u001b[39;00m \u001b[39mself\u001b[39;49m\u001b[39m.\u001b[39;49mhandler(__core_schema)\n",
      "File \u001b[0;32m~/repos/patito/.venv/lib/python3.11/site-packages/pydantic/json_schema.py:521\u001b[0m, in \u001b[0;36mGenerateJsonSchema.generate_inner.<locals>.new_handler_func\u001b[0;34m(schema_or_field, current_handler, js_modify_function)\u001b[0m\n\u001b[1;32m    516\u001b[0m \u001b[39mdef\u001b[39;00m \u001b[39mnew_handler_func\u001b[39m(\n\u001b[1;32m    517\u001b[0m     schema_or_field: CoreSchemaOrField,\n\u001b[1;32m    518\u001b[0m     current_handler: GetJsonSchemaHandler \u001b[39m=\u001b[39m current_handler,\n\u001b[1;32m    519\u001b[0m     js_modify_function: GetJsonSchemaFunction \u001b[39m=\u001b[39m js_modify_function,\n\u001b[1;32m    520\u001b[0m ) \u001b[39m-\u001b[39m\u001b[39m>\u001b[39m JsonSchemaValue:\n\u001b[0;32m--> 521\u001b[0m     json_schema \u001b[39m=\u001b[39m js_modify_function(schema_or_field, current_handler)\n\u001b[1;32m    522\u001b[0m     \u001b[39mif\u001b[39;00m _core_utils\u001b[39m.\u001b[39mis_core_schema(schema_or_field):\n\u001b[1;32m    523\u001b[0m         json_schema \u001b[39m=\u001b[39m populate_defs(schema_or_field, json_schema)\n",
      "File \u001b[0;32m~/repos/patito/.venv/lib/python3.11/site-packages/pydantic/_internal/_generate_schema.py:945\u001b[0m, in \u001b[0;36mGenerateSchema._common_field_schema.<locals>.json_schema_update_func\u001b[0;34m(schema, handler)\u001b[0m\n\u001b[1;32m    944\u001b[0m \u001b[39mdef\u001b[39;00m \u001b[39mjson_schema_update_func\u001b[39m(schema: CoreSchemaOrField, handler: GetJsonSchemaHandler) \u001b[39m-\u001b[39m\u001b[39m>\u001b[39m JsonSchemaValue:\n\u001b[0;32m--> 945\u001b[0m     json_schema \u001b[39m=\u001b[39m {\u001b[39m*\u001b[39m\u001b[39m*\u001b[39mhandler(schema), \u001b[39m*\u001b[39m\u001b[39m*\u001b[39mjson_schema_updates}\n\u001b[1;32m    946\u001b[0m     \u001b[39mif\u001b[39;00m \u001b[39misinstance\u001b[39m(json_schema_extra, \u001b[39mdict\u001b[39m):\n\u001b[1;32m    947\u001b[0m         json_schema\u001b[39m.\u001b[39mupdate(json_schema_extra)\n",
      "File \u001b[0;32m~/repos/patito/.venv/lib/python3.11/site-packages/pydantic/_internal/_schema_generation_shared.py:36\u001b[0m, in \u001b[0;36mGenerateJsonSchemaHandler.__call__\u001b[0;34m(self, _GenerateJsonSchemaHandler__core_schema)\u001b[0m\n\u001b[1;32m     35\u001b[0m \u001b[39mdef\u001b[39;00m \u001b[39m__call__\u001b[39m(\u001b[39mself\u001b[39m, __core_schema: CoreSchemaOrField) \u001b[39m-\u001b[39m\u001b[39m>\u001b[39m JsonSchemaValue:\n\u001b[0;32m---> 36\u001b[0m     \u001b[39mreturn\u001b[39;00m \u001b[39mself\u001b[39;49m\u001b[39m.\u001b[39;49mhandler(__core_schema)\n",
      "File \u001b[0;32m~/repos/patito/.venv/lib/python3.11/site-packages/pydantic/json_schema.py:486\u001b[0m, in \u001b[0;36mGenerateJsonSchema.generate_inner.<locals>.handler_func\u001b[0;34m(schema_or_field)\u001b[0m\n\u001b[1;32m    484\u001b[0m \u001b[39mif\u001b[39;00m _core_utils\u001b[39m.\u001b[39mis_core_schema(schema_or_field) \u001b[39mor\u001b[39;00m _core_utils\u001b[39m.\u001b[39mis_core_schema_field(schema_or_field):\n\u001b[1;32m    485\u001b[0m     generate_for_schema_type \u001b[39m=\u001b[39m \u001b[39mself\u001b[39m\u001b[39m.\u001b[39m_schema_type_to_method[schema_or_field[\u001b[39m'\u001b[39m\u001b[39mtype\u001b[39m\u001b[39m'\u001b[39m]]\n\u001b[0;32m--> 486\u001b[0m     json_schema \u001b[39m=\u001b[39m generate_for_schema_type(schema_or_field)\n\u001b[1;32m    487\u001b[0m \u001b[39melse\u001b[39;00m:\n\u001b[1;32m    488\u001b[0m     \u001b[39mraise\u001b[39;00m \u001b[39mTypeError\u001b[39;00m(\u001b[39mf\u001b[39m\u001b[39m'\u001b[39m\u001b[39mUnexpected schema type: schema=\u001b[39m\u001b[39m{\u001b[39;00mschema_or_field\u001b[39m}\u001b[39;00m\u001b[39m'\u001b[39m)\n",
      "File \u001b[0;32m~/repos/patito/.venv/lib/python3.11/site-packages/pydantic/json_schema.py:1265\u001b[0m, in \u001b[0;36mGenerateJsonSchema.model_field_schema\u001b[0;34m(self, schema)\u001b[0m\n\u001b[1;32m   1256\u001b[0m \u001b[39mdef\u001b[39;00m \u001b[39mmodel_field_schema\u001b[39m(\u001b[39mself\u001b[39m, schema: core_schema\u001b[39m.\u001b[39mModelField) \u001b[39m-\u001b[39m\u001b[39m>\u001b[39m JsonSchemaValue:\n\u001b[1;32m   1257\u001b[0m \u001b[39m    \u001b[39m\u001b[39m\"\"\"Generates a JSON schema that matches a schema that defines a model field.\u001b[39;00m\n\u001b[1;32m   1258\u001b[0m \n\u001b[1;32m   1259\u001b[0m \u001b[39m    Args:\u001b[39;00m\n\u001b[0;32m   (...)\u001b[0m\n\u001b[1;32m   1263\u001b[0m \u001b[39m        The generated JSON schema.\u001b[39;00m\n\u001b[1;32m   1264\u001b[0m \u001b[39m    \"\"\"\u001b[39;00m\n\u001b[0;32m-> 1265\u001b[0m     \u001b[39mreturn\u001b[39;00m \u001b[39mself\u001b[39;49m\u001b[39m.\u001b[39;49mgenerate_inner(schema[\u001b[39m'\u001b[39;49m\u001b[39mschema\u001b[39;49m\u001b[39m'\u001b[39;49m])\n",
      "File \u001b[0;32m~/repos/patito/.venv/lib/python3.11/site-packages/pydantic/json_schema.py:529\u001b[0m, in \u001b[0;36mGenerateJsonSchema.generate_inner\u001b[0;34m(self, schema)\u001b[0m\n\u001b[1;32m    525\u001b[0m         \u001b[39mreturn\u001b[39;00m json_schema\n\u001b[1;32m    527\u001b[0m     current_handler \u001b[39m=\u001b[39m _schema_generation_shared\u001b[39m.\u001b[39mGenerateJsonSchemaHandler(\u001b[39mself\u001b[39m, new_handler_func)\n\u001b[0;32m--> 529\u001b[0m json_schema \u001b[39m=\u001b[39m current_handler(schema)\n\u001b[1;32m    530\u001b[0m \u001b[39mif\u001b[39;00m _core_utils\u001b[39m.\u001b[39mis_core_schema(schema):\n\u001b[1;32m    531\u001b[0m     json_schema \u001b[39m=\u001b[39m populate_defs(schema, json_schema)\n",
      "File \u001b[0;32m~/repos/patito/.venv/lib/python3.11/site-packages/pydantic/_internal/_schema_generation_shared.py:36\u001b[0m, in \u001b[0;36mGenerateJsonSchemaHandler.__call__\u001b[0;34m(self, _GenerateJsonSchemaHandler__core_schema)\u001b[0m\n\u001b[1;32m     35\u001b[0m \u001b[39mdef\u001b[39;00m \u001b[39m__call__\u001b[39m(\u001b[39mself\u001b[39m, __core_schema: CoreSchemaOrField) \u001b[39m-\u001b[39m\u001b[39m>\u001b[39m JsonSchemaValue:\n\u001b[0;32m---> 36\u001b[0m     \u001b[39mreturn\u001b[39;00m \u001b[39mself\u001b[39;49m\u001b[39m.\u001b[39;49mhandler(__core_schema)\n",
      "File \u001b[0;32m~/repos/patito/.venv/lib/python3.11/site-packages/pydantic/json_schema.py:486\u001b[0m, in \u001b[0;36mGenerateJsonSchema.generate_inner.<locals>.handler_func\u001b[0;34m(schema_or_field)\u001b[0m\n\u001b[1;32m    484\u001b[0m \u001b[39mif\u001b[39;00m _core_utils\u001b[39m.\u001b[39mis_core_schema(schema_or_field) \u001b[39mor\u001b[39;00m _core_utils\u001b[39m.\u001b[39mis_core_schema_field(schema_or_field):\n\u001b[1;32m    485\u001b[0m     generate_for_schema_type \u001b[39m=\u001b[39m \u001b[39mself\u001b[39m\u001b[39m.\u001b[39m_schema_type_to_method[schema_or_field[\u001b[39m'\u001b[39m\u001b[39mtype\u001b[39m\u001b[39m'\u001b[39m]]\n\u001b[0;32m--> 486\u001b[0m     json_schema \u001b[39m=\u001b[39m generate_for_schema_type(schema_or_field)\n\u001b[1;32m    487\u001b[0m \u001b[39melse\u001b[39;00m:\n\u001b[1;32m    488\u001b[0m     \u001b[39mraise\u001b[39;00m \u001b[39mTypeError\u001b[39;00m(\u001b[39mf\u001b[39m\u001b[39m'\u001b[39m\u001b[39mUnexpected schema type: schema=\u001b[39m\u001b[39m{\u001b[39;00mschema_or_field\u001b[39m}\u001b[39;00m\u001b[39m'\u001b[39m)\n",
      "File \u001b[0;32m~/repos/patito/.venv/lib/python3.11/site-packages/pydantic/json_schema.py:744\u001b[0m, in \u001b[0;36mGenerateJsonSchema.is_instance_schema\u001b[0;34m(self, schema)\u001b[0m\n\u001b[1;32m    734\u001b[0m \u001b[39mdef\u001b[39;00m \u001b[39mis_instance_schema\u001b[39m(\u001b[39mself\u001b[39m, schema: core_schema\u001b[39m.\u001b[39mIsInstanceSchema) \u001b[39m-\u001b[39m\u001b[39m>\u001b[39m JsonSchemaValue:\n\u001b[1;32m    735\u001b[0m \u001b[39m    \u001b[39m\u001b[39m\"\"\"Generates a JSON schema that checks if a value is an instance of a class, equivalent to Python's\u001b[39;00m\n\u001b[1;32m    736\u001b[0m \u001b[39m    `isinstance` method.\u001b[39;00m\n\u001b[1;32m    737\u001b[0m \n\u001b[0;32m   (...)\u001b[0m\n\u001b[1;32m    742\u001b[0m \u001b[39m        The generated JSON schema.\u001b[39;00m\n\u001b[1;32m    743\u001b[0m \u001b[39m    \"\"\"\u001b[39;00m\n\u001b[0;32m--> 744\u001b[0m     \u001b[39mreturn\u001b[39;00m \u001b[39mself\u001b[39;49m\u001b[39m.\u001b[39;49mhandle_invalid_for_json_schema(schema, \u001b[39mf\u001b[39;49m\u001b[39m'\u001b[39;49m\u001b[39mcore_schema.IsInstanceSchema (\u001b[39;49m\u001b[39m{\u001b[39;49;00mschema[\u001b[39m\"\u001b[39;49m\u001b[39mcls\u001b[39;49m\u001b[39m\"\u001b[39;49m]\u001b[39m}\u001b[39;49;00m\u001b[39m)\u001b[39;49m\u001b[39m'\u001b[39;49m)\n",
      "File \u001b[0;32m~/repos/patito/.venv/lib/python3.11/site-packages/pydantic/json_schema.py:2041\u001b[0m, in \u001b[0;36mGenerateJsonSchema.handle_invalid_for_json_schema\u001b[0;34m(self, schema, error_info)\u001b[0m\n\u001b[1;32m   2040\u001b[0m \u001b[39mdef\u001b[39;00m \u001b[39mhandle_invalid_for_json_schema\u001b[39m(\u001b[39mself\u001b[39m, schema: CoreSchemaOrField, error_info: \u001b[39mstr\u001b[39m) \u001b[39m-\u001b[39m\u001b[39m>\u001b[39m JsonSchemaValue:\n\u001b[0;32m-> 2041\u001b[0m     \u001b[39mraise\u001b[39;00m PydanticInvalidForJsonSchema(\u001b[39mf\u001b[39m\u001b[39m'\u001b[39m\u001b[39mCannot generate a JsonSchema for \u001b[39m\u001b[39m{\u001b[39;00merror_info\u001b[39m}\u001b[39;00m\u001b[39m'\u001b[39m)\n",
      "\u001b[0;31mPydanticInvalidForJsonSchema\u001b[0m: Cannot generate a JsonSchema for core_schema.IsInstanceSchema (Int64)\n\nFor further information visit https://errors.pydantic.dev/2.3/u/invalid-for-json-schema"
     ]
    }
   ],
   "source": [
    "Example.model_json_schema()"
   ]
  },
  {
   "cell_type": "code",
   "execution_count": 1,
   "metadata": {},
   "outputs": [
    {
     "name": "stdout",
     "output_type": "stream",
     "text": [
      "{'properties': {'name': {'default': 'example', 'title': 'Name', 'type': 'string'}, 'dtype1': {'default': 'example', 'title': 'Dtype1', 'type': 'string'}, 'dtype2': {'default': 1, 'dtype': Int64, 'title': 'Dtype2', 'type': 'integer', 'unique': False}}, 'title': 'Example', 'type': 'object'}\n"
     ]
    }
   ],
   "source": [
    "from typing import Callable\n",
    "\n",
    "from pydantic_core import PydanticOmit, core_schema\n",
    "\n",
    "from pydantic import BaseModel\n",
    "from pydantic.json_schema import GenerateJsonSchema, JsonSchemaValue\n",
    "\n",
    "import polars as pl\n",
    "\n",
    "from patito import Field\n",
    "\n",
    "\n",
    "class MyGenerateJsonSchema(GenerateJsonSchema):\n",
    "    def handle_invalid_for_json_schema(\n",
    "        self, schema: core_schema.CoreSchema, error_info: str\n",
    "    ) -> JsonSchemaValue:\n",
    "        raise PydanticOmit\n",
    "\n",
    "\n",
    "def example_callable():\n",
    "    return 1\n",
    "\n",
    "\n",
    "class Example(BaseModel):\n",
    "    name: str = 'example'\n",
    "    dtype1: str = 'example'\n",
    "    dtype2: int = Field(1, json_schema_extra = {\"dtype\":pl.Int64})\n",
    "\n",
    "\n",
    "instance_example = Example()\n",
    "\n",
    "validation_schema = instance_example.model_json_schema(\n",
    "    schema_generator=MyGenerateJsonSchema, mode='validation'\n",
    ")\n",
    "print(validation_schema)"
   ]
  }
 ],
 "metadata": {
  "kernelspec": {
   "display_name": ".venv",
   "language": "python",
   "name": "python3"
  },
  "language_info": {
   "codemirror_mode": {
    "name": "ipython",
    "version": 3
   },
   "file_extension": ".py",
   "mimetype": "text/x-python",
   "name": "python",
   "nbconvert_exporter": "python",
   "pygments_lexer": "ipython3",
   "version": "3.11.4"
  }
 },
 "nbformat": 4,
 "nbformat_minor": 2
}
